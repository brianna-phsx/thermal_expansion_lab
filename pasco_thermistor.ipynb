{
  "nbformat": 4,
  "nbformat_minor": 0,
  "metadata": {
    "colab": {
      "provenance": [],
      "authorship_tag": "ABX9TyMNuSa0CUGakpGp3RjD9MJH",
      "include_colab_link": true
    },
    "kernelspec": {
      "name": "python3",
      "display_name": "Python 3"
    },
    "language_info": {
      "name": "python"
    }
  },
  "cells": [
    {
      "cell_type": "markdown",
      "metadata": {
        "id": "view-in-github",
        "colab_type": "text"
      },
      "source": [
        "<a href=\"https://colab.research.google.com/github/brianna-phsx/thermal_expansion_lab/blob/main/pasco_thermistor.ipynb\" target=\"_parent\"><img src=\"https://colab.research.google.com/assets/colab-badge.svg\" alt=\"Open In Colab\"/></a>"
      ]
    },
    {
      "cell_type": "code",
      "execution_count": null,
      "metadata": {
        "id": "CmZS31jZrToe"
      },
      "outputs": [],
      "source": [
        "import numpy as np\n",
        "\n",
        "resistance=np.array([351020,332640,315320,298990,283600,269080,255380,242460,230260,218730,207850,197560,187840,178650,169950,161730,153950,146580,139610,133000,126740,120810,115190,109850,104800,\n",
        "                     100000,95447,91126,87022,83124,79422,75903,72560,69380,66356,63480,60743,58138,55658,53297,51048,48905,46863,44917,43062,41292,39605,37995,36458,34991,33591,32253,30976,29756,\n",
        "                     28590,27475,26409,25390,24415,23483,22590,21736,20919,20136,19386,18668,17980,17321,16689,16083,15502,14945,14410,13897,13405,12932,12479,12043,11625,11223,10837,10467,10110,\n",
        "                     9767.2,9437.7,9120.8,8816.0,8522.7,8240.6,7969.1,7707.7,7456.2,7214.0,6980.6,6755.9,6539.4,6330.8,6129.8,5936.1,5749.3,5569.3]) #ohms\n",
        "resistance=np.flip(resistance)\n",
        "temperature=np.arange(100,-1,-1) #degrees celsius\n",
        "\n",
        "r1=input('R_rm (in Ohms): ')\n",
        "r2=input('R_hot (in Ohms): ')\n",
        "\n",
        "[t1,t2]=np.interp([r1,r2],resistance,temperature,left=0,right=0)\n",
        "\n",
        "if t1==0 or t2==0:\n",
        "  print('\\nERROR: RESISTANCE OUTSIDE OF THERMISTOR RANGE')\n",
        "else:\n",
        "  print('\\nROOM TEMP:\\nResistance: {} Ohms\\nTemperature: {:.1f}degrees Celsius\\n\\nHOT:\\nResistance: {} Ohms\\nTemperature: {:.1f}degrees Celsius'.format(r1,t1,r2,t2))"
      ]
    }
  ]
}